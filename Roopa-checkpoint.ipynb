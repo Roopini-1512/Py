{
 "cells": [
  {
   "cell_type": "code",
   "execution_count": 4,
   "metadata": {},
   "outputs": [
    {
     "name": "stdout",
     "output_type": "stream",
     "text": [
      "what is your score in Quiz 1: 20\n",
      "what is your score in quiz 2: 20\n",
      "what is your classtest mark: 50\n",
      "what is your assigment score: 100\n",
      "what is your project score: 200\n",
      "100.0\n"
     ]
    }
   ],
   "source": [
    "Quiz1 =int(input(\"what is your score in Quiz 1: \"))\n",
    "Quiz2 =int(input(\"what is your score in quiz 2: \"))\n",
    "Class_test=int(input(\"what is your classtest mark: \")) \n",
    "Assignment =int(input(\"what is your assigment score: \"))\n",
    "Project =int(input(\"what is your project score: \"))\n",
    "Total=(((Quiz1/20)*0.10 + (Quiz2/20)*0.10 + (Class_test/50)*0.25 + (Assignment/100)*0.25 + (Project/200)*0.30)*100)\n",
    "print(Total)"
   ]
  },
  {
   "cell_type": "code",
   "execution_count": null,
   "metadata": {},
   "outputs": [],
   "source": []
  }
 ],
 "metadata": {
  "kernelspec": {
   "display_name": "Python 3",
   "language": "python",
   "name": "python3"
  },
  "language_info": {
   "codemirror_mode": {
    "name": "ipython",
    "version": 3
   },
   "file_extension": ".py",
   "mimetype": "text/x-python",
   "name": "python",
   "nbconvert_exporter": "python",
   "pygments_lexer": "ipython3",
   "version": "3.8.3"
  }
 },
 "nbformat": 4,
 "nbformat_minor": 4
}
